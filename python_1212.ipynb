{
 "cells": [
  {
   "cell_type": "code",
   "execution_count": 9,
   "metadata": {
    "collapsed": false
   },
   "outputs": [],
   "source": [
    "from scipy import exp, pi\n",
    "inf = 1.e22\n",
    "from scipy.integrate import tplquad\n",
    "func = lambda x,y,z: x**2 * exp(-x**2) * exp(-0.5*y*z/x)\n",
    "x1,x2 = 0, pi\n",
    "y1,y2 = lambda x: 0, lambda x: inf\n",
    "z1,z2 = lambda x,y: 0, lambda x,y: inf\n"
   ]
  },
  {
   "cell_type": "code",
   "execution_count": 10,
   "metadata": {
    "collapsed": false
   },
   "outputs": [],
   "source": [
    "from scipy.integrate import quad, dblquad"
   ]
  },
  {
   "cell_type": "code",
   "execution_count": 11,
   "metadata": {
    "collapsed": true
   },
   "outputs": [],
   "source": [
    "def I(n):\n",
    "    return dblquad(lambda t, x: np.exp(-x*t)/t**n, 0, np.inf, lambda x:1, lambda x:np.inf)\n"
   ]
  },
  {
   "cell_type": "markdown",
   "metadata": {},
   "source": [
    "TEST"
   ]
  },
  {
   "cell_type": "code",
   "execution_count": 13,
   "metadata": {
    "collapsed": false
   },
   "outputs": [],
   "source": [
    "# This opens a handle to your file, in 'r' read mode\n",
    "file_handle = open('test.txt', 'r')\n",
    "# Read in all the lines of your file into a list of lines\n",
    "lines_list = file_handle.readlines()\n",
    "# Extract dimensions from first line. Cast values to integers from strings.\n",
    " \n",
    " \n"
   ]
  },
  {
   "cell_type": "code",
   "execution_count": 14,
   "metadata": {
    "collapsed": false
   },
   "outputs": [
    {
     "data": {
      "text/plain": [
       "['1 2 3 4 5\\n', '6 7 8 9 10\\n', '11 12 13 14 15']"
      ]
     },
     "execution_count": 14,
     "metadata": {},
     "output_type": "execute_result"
    }
   ],
   "source": [
    "lines_list"
   ]
  },
  {
   "cell_type": "code",
   "execution_count": 15,
   "metadata": {
    "collapsed": false
   },
   "outputs": [],
   "source": [
    "my_data = [[int(val) for val in line.split()] for line in lines_list[0:]]"
   ]
  },
  {
   "cell_type": "code",
   "execution_count": 16,
   "metadata": {
    "collapsed": false
   },
   "outputs": [
    {
     "data": {
      "text/plain": [
       "[[1, 2, 3, 4, 5], [6, 7, 8, 9, 10], [11, 12, 13, 14, 15]]"
      ]
     },
     "execution_count": 16,
     "metadata": {},
     "output_type": "execute_result"
    }
   ],
   "source": [
    "my_data"
   ]
  },
  {
   "cell_type": "code",
   "execution_count": 17,
   "metadata": {
    "collapsed": false
   },
   "outputs": [
    {
     "data": {
      "text/plain": [
       "array([[[ 1],\n",
       "        [ 2],\n",
       "        [ 3]],\n",
       "\n",
       "       [[ 4],\n",
       "        [ 5],\n",
       "        [ 6]],\n",
       "\n",
       "       [[ 7],\n",
       "        [ 8],\n",
       "        [ 9]],\n",
       "\n",
       "       [[10],\n",
       "        [11],\n",
       "        [12]],\n",
       "\n",
       "       [[13],\n",
       "        [14],\n",
       "        [15]]])"
      ]
     },
     "execution_count": 17,
     "metadata": {},
     "output_type": "execute_result"
    }
   ],
   "source": [
    "my_data3=np.reshape(my_data,(5,3,1))\n",
    "my_data3"
   ]
  },
  {
   "cell_type": "code",
   "execution_count": 18,
   "metadata": {
    "collapsed": false
   },
   "outputs": [
    {
     "data": {
      "text/plain": [
       "2"
      ]
     },
     "execution_count": 18,
     "metadata": {},
     "output_type": "execute_result"
    }
   ],
   "source": [
    "my_data[0][1]"
   ]
  },
  {
   "cell_type": "markdown",
   "metadata": {},
   "source": [
    "# Local Charge Calculation"
   ]
  },
  {
   "cell_type": "code",
   "execution_count": 32,
   "metadata": {
    "collapsed": false
   },
   "outputs": [],
   "source": [
    "import numpy as np;\n",
    "\n",
    "file_handle2 = open('iter1_density_dn.s1', 'r')\n",
    "# Read in all the lines of your file into a list of lines\n",
    "lines_list2 = file_handle2.readlines()\n",
    "my_data2 = [[val for val in line.split()] for line in lines_list2[0:]]\n",
    "\n",
    "\n",
    "file_handle3 = open('iter1_density_up.s1', 'r')\n",
    "lines_list3 = file_handle3.readlines()\n",
    "my_data3 = [[val for val in line.split()] for line in lines_list3[0:]]\n",
    "\n",
    "\n",
    "file_handle4 = open('iter2_density_dn.s1', 'r')\n",
    "# Read in all the lines of your file into a list of lines\n",
    "lines_list4 = file_handle4.readlines()\n",
    "my_data4 = [[val for val in line.split()] for line in lines_list4[0:]]\n",
    "\n",
    "file_handle5 = open('iter2_density_up.s1', 'r')\n",
    "# Read in all the lines of your file into a list of lines\n",
    "lines_list5 = file_handle5.readlines()\n",
    "my_data5 = [[val for val in line.split()] for line in lines_list5[0:]]\n",
    "\n",
    "file_handle6 = open('iter3_density_dn.s1', 'r')\n",
    "# Read in all the lines of your file into a list of lines\n",
    "lines_list6 = file_handle6.readlines()\n",
    "my_data6 = [[val for val in line.split()] for line in lines_list6[0:]]\n",
    "\n",
    "file_handle7 = open('iter3_density_up.s1', 'r')\n",
    "# Read in all the lines of your file into a list of lines\n",
    "lines_list7 = file_handle7.readlines()\n",
    "my_data7 = [[val for val in line.split()] for line in lines_list7[0:]]\n"
   ]
  },
  {
   "cell_type": "code",
   "execution_count": 30,
   "metadata": {
    "collapsed": false
   },
   "outputs": [],
   "source": [
    "flattened= [val for sublist in my_data2 for val in sublist];\n",
    "flattened1=np.reshape(flattened,(96,64,64))\n",
    "\n",
    "flattened2= [val for sublist in my_data3 for val in sublist];\n",
    "flattened3=np.reshape(flattened2,(96,64,64))\n",
    "\n",
    "flattened4= [val for sublist in my_data4 for val in sublist];\n",
    "flattened5=np.reshape(flattened4,(96,64,64))\n",
    "\n",
    "flattened6= [val for sublist in my_data5 for val in sublist];\n",
    "flattened7=np.reshape(flattened6,(96,64,64))\n",
    "\n",
    "flattened8= [val for sublist in my_data6 for val in sublist];\n",
    "flattened9=np.reshape(flattened8,(96,64,64))\n",
    "\n",
    "flattened10= [val for sublist in my_data7 for val in sublist];\n",
    "flattened11=np.reshape(flattened10,(96,64,64))\n"
   ]
  },
  {
   "cell_type": "code",
   "execution_count": 36,
   "metadata": {
    "collapsed": false
   },
   "outputs": [],
   "source": [
    "LPAR1=7.0000\n",
    "LPAR2=7.0000\n",
    "L=9.58488 \n",
    "FFT_MAX_XY=64\n",
    "FFT_MAX_Z=96\n",
    "\n",
    "from scipy.interpolate import RegularGridInterpolator\n",
    "from numpy import linspace, zeros, array\n",
    "x = linspace(-LPAR1,LPAR1,FFT_MAX_XY)\n",
    "y = linspace(-LPAR2,LPAR2,FFT_MAX_XY)\n",
    "z = linspace(-L,L,FFT_MAX_Z)\n",
    "V = zeros((FFT_MAX_Z,FFT_MAX_XY,FFT_MAX_XY))\n",
    "U = zeros((FFT_MAX_Z,FFT_MAX_XY,FFT_MAX_XY))\n",
    "V2 = zeros((FFT_MAX_Z,FFT_MAX_XY,FFT_MAX_XY))\n",
    "U2 = zeros((FFT_MAX_Z,FFT_MAX_XY,FFT_MAX_XY)) \n",
    "V3 = zeros((FFT_MAX_Z,FFT_MAX_XY,FFT_MAX_XY))\n",
    "U3 = zeros((FFT_MAX_Z,FFT_MAX_XY,FFT_MAX_XY))\n",
    "for k in range(FFT_MAX_XY):\n",
    "    for j in range(FFT_MAX_XY):\n",
    "        for i in range(FFT_MAX_Z):\n",
    "            V[i,j,k] = flattened1[i][j][k]\n",
    "            U[i,j,k] = flattened3[i][j][k]\n",
    "            V2[i,j,k] = flattened5[i][j][k]\n",
    "            U2[i,j,k] = flattened7[i][j][k]\n",
    "            V3[i,j,k] = flattened9[i][j][k]\n",
    "            U3[i,j,k] = flattened11[i][j][k]\n",
    "fn = RegularGridInterpolator((z,y,x), V)\n",
    "gn = RegularGridInterpolator((z,y,x), U)\n",
    "fn2 = RegularGridInterpolator((z,y,x), V2)\n",
    "gn2 = RegularGridInterpolator((z,y,x), U2)\n",
    "fn3 = RegularGridInterpolator((z,y,x), V3)\n",
    "gn3 = RegularGridInterpolator((z,y,x), U3)"
   ]
  },
  {
   "cell_type": "code",
   "execution_count": 37,
   "metadata": {
    "collapsed": false
   },
   "outputs": [],
   "source": [
    "#to obtain partial charge over a certain area, for example, \n",
    "#the charge around N and Co, we need to respecify the ranges of integration\n",
    "#&LOC RJ(1,1,1)=0.0D0,RJ(2,1,1)=0.0D0,RJ(3,1,1)=-3.02D0,RJ(1,2,1)=0.0D0,RJ(2,2,1)=0.0D0,RJ(3,2,1)=3.02D0\n",
    "xsize=64\n",
    "ysize=64\n",
    "zsize=32\n",
    "\n",
    "x1 = linspace(-LPAR1,LPAR1,xsize)\n",
    "y1 = linspace(-LPAR2,LPAR2,ysize)\n",
    "z1 = linspace(-8.0,-1.5,zsize)\n",
    "z2 = linspace( 1.5,8.0,zsize)\n",
    "z0 = linspace(-1.5,1.5,zsize)\n",
    "VCOL1 = zeros((zsize,ysize,xsize))\n",
    "VCOR1 = zeros((zsize,ysize,xsize))\n",
    "VNO1  = zeros((zsize,ysize,xsize))\n",
    "UCOL1 = zeros((zsize,ysize,xsize))\n",
    "UCOR1 = zeros((zsize,ysize,xsize))\n",
    "UNO1  = zeros((zsize,ysize,xsize))\n",
    "\n",
    "VCOL2 = zeros((zsize,ysize,xsize))\n",
    "VCOR2 = zeros((zsize,ysize,xsize))\n",
    "VNO2  = zeros((zsize,ysize,xsize))\n",
    "UCOL2 = zeros((zsize,ysize,xsize))\n",
    "UCOR2 = zeros((zsize,ysize,xsize))\n",
    "UNO2  = zeros((zsize,ysize,xsize))\n",
    "\n",
    "VCOL3 = zeros((zsize,ysize,xsize))\n",
    "VCOR3 = zeros((zsize,ysize,xsize))\n",
    "VNO3 = zeros((zsize,ysize,xsize))\n",
    "UCOL3 = zeros((zsize,ysize,xsize))\n",
    "UCOR3 = zeros((zsize,ysize,xsize))\n",
    "UNO3  = zeros((zsize,ysize,xsize))\n",
    "\n",
    "\n",
    "for k in range(xsize):\n",
    "    for j in range(ysize):\n",
    "        for i in range(zsize):\n",
    "            VCOL1[i,j,k]=fn([z1[i],y1[j],x1[k]])\n",
    "            VCOR1[i,j,k]=fn([z2[i],y1[j],x1[k]])\n",
    "            VNO1[i,j,k]=fn([z0[i],y1[j],x1[k]])\n",
    "\n",
    "            UCOL1[i,j,k]=gn([z1[i],y1[j],x1[k]])\n",
    "            UCOR1[i,j,k]=gn([z2[i],y1[j],x1[k]])\n",
    "            UNO1[i,j,k]=gn([z0[i],y1[j],x1[k]])\n",
    "            \n",
    "            VCOL2[i,j,k]=fn2([z1[i],y1[j],x1[k]])\n",
    "            VCOR2[i,j,k]=fn2([z2[i],y1[j],x1[k]])\n",
    "            VNO2[i,j,k]=fn2([z0[i],y1[j],x1[k]])\n",
    "\n",
    "            UCOL2[i,j,k]=gn2([z1[i],y1[j],x1[k]])\n",
    "            UCOR2[i,j,k]=gn2([z2[i],y1[j],x1[k]])\n",
    "            UNO2[i,j,k]=gn2([z0[i],y1[j],x1[k]])\n",
    "                        \n",
    "            VCOL3[i,j,k]=fn3([z1[i],y1[j],x1[k]])\n",
    "            VCOR3[i,j,k]=fn3([z2[i],y1[j],x1[k]])\n",
    "            VNO3[i,j,k]=fn3([z0[i],y1[j],x1[k]])\n",
    "\n",
    "            UCOL3[i,j,k]=gn3([z1[i],y1[j],x1[k]])\n",
    "            UCOR3[i,j,k]=gn3([z2[i],y1[j],x1[k]])\n",
    "            UNO3[i,j,k]=gn3([z0[i],y1[j],x1[k]])\n",
    "            \n",
    "            "
   ]
  },
  {
   "cell_type": "code",
   "execution_count": 38,
   "metadata": {
    "collapsed": false
   },
   "outputs": [
    {
     "name": "stdout",
     "output_type": "stream",
     "text": [
      "Total charge close to the three atoms (for dn) for ITER 1\n",
      "Dn-Charge is 9.14636498217\n",
      "Up-Charge is 10.2010514923\n",
      "\n",
      "The partial charges close to the three atoms (for dn)\n",
      "Dn-Charge at Left N is 2.52560709685\n",
      "Dn-Charge at Right N is 2.46746893898\n",
      "Dn-Charge at Middle Co is 1.16566481393\n",
      "\n",
      "The partial charges close to the three atoms (for up)\n",
      "Up-Charge at Left N is 3.17943306264\n",
      "Up-Charge at Right N is 3.11289093604\n",
      "Up-Charge at Middle Co is 1.4674306443\n",
      "\n",
      "================================\n",
      "Total charge close to the three atoms (for dn) for ITER 2\n",
      "Dn-Charge is 8.42792889519\n",
      "Up-Charge is 9.4198788014\n",
      "\n",
      "The partial charges close to the three atoms (for dn)\n",
      "Dn-Charge at Left N is 2.29057950215\n",
      "Dn-Charge at Right N is 2.33490168891\n",
      "Dn-Charge at Middle Co is 1.05719053945\n",
      "\n",
      "The partial charges close to the three atoms (for up)\n",
      "Up-Charge at Left N is 2.89823467306\n",
      "Up-Charge at Right N is 2.94275004277\n",
      "Up-Charge at Middle Co is 1.33764677218\n",
      "\n",
      "================================\n",
      "Total charge close to the three atoms (for dn) for ITER 3\n",
      "Dn-Charge is 9.35695928419\n",
      "Up-Charge is 10.4103243561\n",
      "\n",
      "The partial charges close to the three atoms (for dn)\n",
      "Dn-Charge at Left N is 2.68055482977\n",
      "Dn-Charge at Right N is 2.68078859865\n",
      "Dn-Charge at Middle Co is 1.2371791522\n",
      "\n",
      "The partial charges close to the three atoms (for up)\n",
      "Up-Charge at Left N is 3.30444961244\n",
      "Up-Charge at Right N is 3.29943583444\n",
      "Up-Charge at Middle Co is 1.52513059036\n",
      "\n",
      "================================\n"
     ]
    }
   ],
   "source": [
    "from scipy.integrate import simps\n",
    "\n",
    "#print out the total charge for dn and up\n",
    "print('Total charge close to the three atoms (for dn) for ITER 1')\n",
    "print('Dn-Charge is', simps(simps(simps(V,x),y),z))\n",
    "print('Up-Charge is', simps(simps(simps(U,x),y),z))\n",
    "\n",
    "print('')\n",
    "#Print out the partial charge close to the three atoms (for dn)\n",
    "print('The partial charges close to the three atoms (for dn)')\n",
    "print('Dn-Charge at Left N is', simps(simps(simps(VCOL1,x1),y1),z1))\n",
    "print('Dn-Charge at Right N is', simps(simps(simps(VCOR1,x1),y1),z2))\n",
    "print('Dn-Charge at Middle Co is', simps(simps(simps(VCOL1,x1),y1),z0))\n",
    "print('')\n",
    "#Print out the partial charge close to the three atoms (for up)\n",
    "print('The partial charges close to the three atoms (for up)')\n",
    "print('Up-Charge at Left N is', simps(simps(simps(UCOL1,x1),y1),z1))\n",
    "print('Up-Charge at Right N is', simps(simps(simps(UCOR1,x1),y1),z2))\n",
    "print('Up-Charge at Middle Co is', simps(simps(simps(UCOL1,x1),y1),z0))\n",
    "print('')\n",
    "print('================================')\n",
    "\n",
    "#print out the total charge for dn and up\n",
    "print('Total charge close to the three atoms (for dn) for ITER 2')\n",
    "print('Dn-Charge is', simps(simps(simps(V2,x),y),z))\n",
    "print('Up-Charge is', simps(simps(simps(U2,x),y),z))\n",
    "\n",
    "print('')\n",
    "#Print out the partial charge close to the three atoms (for dn)\n",
    "print('The partial charges close to the three atoms (for dn)')\n",
    "print('Dn-Charge at Left N is', simps(simps(simps(VCOL2,x1),y1),z1))\n",
    "print('Dn-Charge at Right N is', simps(simps(simps(VCOR2,x1),y1),z2))\n",
    "print('Dn-Charge at Middle Co is', simps(simps(simps(VCOL2,x1),y1),z0))\n",
    "print('')\n",
    "#Print out the partial charge close to the three atoms (for up)\n",
    "print('The partial charges close to the three atoms (for up)')\n",
    "print('Up-Charge at Left N is', simps(simps(simps(UCOL2,x1),y1),z1))\n",
    "print('Up-Charge at Right N is', simps(simps(simps(UCOR2,x1),y1),z2))\n",
    "print('Up-Charge at Middle Co is', simps(simps(simps(UCOL2,x1),y1),z0))\n",
    "print('')\n",
    "print('================================')\n",
    "\n",
    "\n",
    "#print out the total charge for dn and up\n",
    "print('Total charge close to the three atoms (for dn) for ITER 3')\n",
    "print('Dn-Charge is', simps(simps(simps(V3,x),y),z))\n",
    "print('Up-Charge is', simps(simps(simps(U3,x),y),z))\n",
    "\n",
    "print('')\n",
    "#Print out the partial charge close to the three atoms (for dn)\n",
    "print('The partial charges close to the three atoms (for dn)')\n",
    "print('Dn-Charge at Left N is', simps(simps(simps(VCOL3,x1),y1),z1))\n",
    "print('Dn-Charge at Right N is', simps(simps(simps(VCOR3,x1),y1),z2))\n",
    "print('Dn-Charge at Middle Co is', simps(simps(simps(VCOL3,x1),y1),z0))\n",
    "print('')\n",
    "#Print out the partial charge close to the three atoms (for up)\n",
    "print('The partial charges close to the three atoms (for up)')\n",
    "print('Up-Charge at Left N is', simps(simps(simps(UCOL3,x1),y1),z1))\n",
    "print('Up-Charge at Right N is', simps(simps(simps(UCOR3,x1),y1),z2))\n",
    "print('Up-Charge at Middle Co is', simps(simps(simps(UCOL3,x1),y1),z0))\n",
    "print('')\n",
    "print('================================')"
   ]
  },
  {
   "cell_type": "code",
   "execution_count": 42,
   "metadata": {
    "collapsed": false
   },
   "outputs": [],
   "source": [
    "#to obtain partial charge over a certain area, for example, \n",
    "#the charge around N and Co, we need to respecify the ranges of integration\n",
    "#&LOC RJ(1,1,1)=0.0D0,RJ(2,1,1)=0.0D0,RJ(3,1,1)=-3.02D0,RJ(1,2,1)=0.0D0,RJ(2,2,1)=0.0D0,RJ(3,2,1)=3.02D0\n",
    "xsize=64\n",
    "ysize=64\n",
    "zsize=64\n",
    "\n",
    "x1 = linspace(-LPAR1,LPAR1,xsize)\n",
    "y1 = linspace(-LPAR2,LPAR2,ysize)\n",
    "z1 = linspace(-L,-1.5,zsize)\n",
    "z2 = linspace( 1.5,L,zsize)\n",
    "z0 = linspace(-1.5,1.5,zsize)\n",
    "VCOL1 = zeros((zsize,ysize,xsize))\n",
    "VCOR1 = zeros((zsize,ysize,xsize))\n",
    "VNO1  = zeros((zsize,ysize,xsize))\n",
    "UCOL1 = zeros((zsize,ysize,xsize))\n",
    "UCOR1 = zeros((zsize,ysize,xsize))\n",
    "UNO1  = zeros((zsize,ysize,xsize))\n",
    "\n",
    "VCOL2 = zeros((zsize,ysize,xsize))\n",
    "VCOR2 = zeros((zsize,ysize,xsize))\n",
    "VNO2  = zeros((zsize,ysize,xsize))\n",
    "UCOL2 = zeros((zsize,ysize,xsize))\n",
    "UCOR2 = zeros((zsize,ysize,xsize))\n",
    "UNO2  = zeros((zsize,ysize,xsize))\n",
    "\n",
    "VCOL3 = zeros((zsize,ysize,xsize))\n",
    "VCOR3 = zeros((zsize,ysize,xsize))\n",
    "VNO3 = zeros((zsize,ysize,xsize))\n",
    "UCOL3 = zeros((zsize,ysize,xsize))\n",
    "UCOR3 = zeros((zsize,ysize,xsize))\n",
    "UNO3  = zeros((zsize,ysize,xsize))\n",
    "\n",
    "\n",
    "for k in range(xsize):\n",
    "    for j in range(ysize):\n",
    "        for i in range(zsize):\n",
    "            VCOL1[i,j,k]=fn([z1[i],y1[j],x1[k]])\n",
    "            VCOR1[i,j,k]=fn([z2[i],y1[j],x1[k]])\n",
    "            VNO1[i,j,k]=fn([z0[i],y1[j],x1[k]])\n",
    "\n",
    "            UCOL1[i,j,k]=gn([z1[i],y1[j],x1[k]])\n",
    "            UCOR1[i,j,k]=gn([z2[i],y1[j],x1[k]])\n",
    "            UNO1[i,j,k]=gn([z0[i],y1[j],x1[k]])\n",
    "            \n",
    "            VCOL2[i,j,k]=fn2([z1[i],y1[j],x1[k]])\n",
    "            VCOR2[i,j,k]=fn2([z2[i],y1[j],x1[k]])\n",
    "            VNO2[i,j,k]=fn2([z0[i],y1[j],x1[k]])\n",
    "\n",
    "            UCOL2[i,j,k]=gn2([z1[i],y1[j],x1[k]])\n",
    "            UCOR2[i,j,k]=gn2([z2[i],y1[j],x1[k]])\n",
    "            UNO2[i,j,k]=gn2([z0[i],y1[j],x1[k]])\n",
    "                        \n",
    "            VCOL3[i,j,k]=fn3([z1[i],y1[j],x1[k]])\n",
    "            VCOR3[i,j,k]=fn3([z2[i],y1[j],x1[k]])\n",
    "            VNO3[i,j,k]=fn3([z0[i],y1[j],x1[k]])\n",
    "\n",
    "            UCOL3[i,j,k]=gn3([z1[i],y1[j],x1[k]])\n",
    "            UCOR3[i,j,k]=gn3([z2[i],y1[j],x1[k]])\n",
    "            UNO3[i,j,k]=gn3([z0[i],y1[j],x1[k]])\n",
    "            \n",
    "            \n",
    "            \n",
    "            "
   ]
  },
  {
   "cell_type": "code",
   "execution_count": 43,
   "metadata": {
    "collapsed": false
   },
   "outputs": [
    {
     "name": "stdout",
     "output_type": "stream",
     "text": [
      "Total charge close to the three atoms (for dn) for ITER 1\n",
      "Dn-Charge is 9.14636498217\n",
      "Up-Charge is 10.2010514923\n",
      "\n",
      "The partial charges close to the three atoms (for dn)\n",
      "Dn-Charge at Left N is 2.52624844229\n",
      "Dn-Charge at Right N is 2.46732363632\n",
      "Dn-Charge at Middle Co is 0.937397379661\n",
      "\n",
      "The partial charges close to the three atoms (for up)\n",
      "Up-Charge at Left N is 3.17993339681\n",
      "Up-Charge at Right N is 3.11235640232\n",
      "Up-Charge at Middle Co is 1.17995569389\n",
      "\n",
      "================================\n",
      "Total charge close to the three atoms (for dn) for ITER 2\n",
      "Dn-Charge is 8.42792889519\n",
      "Up-Charge is 9.4198788014\n",
      "\n",
      "The partial charges close to the three atoms (for dn)\n",
      "Dn-Charge at Left N is 2.26528502305\n",
      "Dn-Charge at Right N is 2.31575941561\n",
      "Dn-Charge at Middle Co is 0.840563504856\n",
      "\n",
      "The partial charges close to the three atoms (for up)\n",
      "Up-Charge at Left N is 2.87275684204\n",
      "Up-Charge at Right N is 2.92353647835\n",
      "Up-Charge at Middle Co is 1.06597383339\n",
      "\n",
      "================================\n",
      "Total charge close to the three atoms (for dn) for ITER 3\n",
      "Dn-Charge is 9.35695928419\n",
      "Up-Charge is 10.4103243561\n",
      "\n",
      "The partial charges close to the three atoms (for dn)\n",
      "Dn-Charge at Left N is 2.72670962524\n",
      "Dn-Charge at Right N is 2.72672005183\n",
      "Dn-Charge at Middle Co is 1.01178111187\n",
      "\n",
      "The partial charges close to the three atoms (for up)\n",
      "Up-Charge at Left N is 3.36036398889\n",
      "Up-Charge at Right N is 3.3542642396\n",
      "Up-Charge at Middle Co is 1.24690681453\n",
      "\n",
      "================================\n"
     ]
    }
   ],
   "source": [
    "from scipy.integrate import simps\n",
    "\n",
    "#print out the total charge for dn and up\n",
    "print('Total charge close to the three atoms (for dn) for ITER 1')\n",
    "print('Dn-Charge is', simps(simps(simps(V,x),y),z))\n",
    "print('Up-Charge is', simps(simps(simps(U,x),y),z))\n",
    "\n",
    "print('')\n",
    "#Print out the partial charge close to the three atoms (for dn)\n",
    "print('The partial charges close to the three atoms (for dn)')\n",
    "print('Dn-Charge at Left N is', simps(simps(simps(VCOL1,x1),y1),z1))\n",
    "print('Dn-Charge at Right N is', simps(simps(simps(VCOR1,x1),y1),z2))\n",
    "print('Dn-Charge at Middle Co is', simps(simps(simps(VCOL1,x1),y1),z0))\n",
    "print('')\n",
    "#Print out the partial charge close to the three atoms (for up)\n",
    "print('The partial charges close to the three atoms (for up)')\n",
    "print('Up-Charge at Left N is', simps(simps(simps(UCOL1,x1),y1),z1))\n",
    "print('Up-Charge at Right N is', simps(simps(simps(UCOR1,x1),y1),z2))\n",
    "print('Up-Charge at Middle Co is', simps(simps(simps(UCOL1,x1),y1),z0))\n",
    "print('')\n",
    "print('================================')\n",
    "\n",
    "#print out the total charge for dn and up\n",
    "print('Total charge close to the three atoms (for dn) for ITER 2')\n",
    "print('Dn-Charge is', simps(simps(simps(V2,x),y),z))\n",
    "print('Up-Charge is', simps(simps(simps(U2,x),y),z))\n",
    "\n",
    "print('')\n",
    "#Print out the partial charge close to the three atoms (for dn)\n",
    "print('The partial charges close to the three atoms (for dn)')\n",
    "print('Dn-Charge at Left N is', simps(simps(simps(VCOL2,x1),y1),z1))\n",
    "print('Dn-Charge at Right N is', simps(simps(simps(VCOR2,x1),y1),z2))\n",
    "print('Dn-Charge at Middle Co is', simps(simps(simps(VCOL2,x1),y1),z0))\n",
    "print('')\n",
    "#Print out the partial charge close to the three atoms (for up)\n",
    "print('The partial charges close to the three atoms (for up)')\n",
    "print('Up-Charge at Left N is', simps(simps(simps(UCOL2,x1),y1),z1))\n",
    "print('Up-Charge at Right N is', simps(simps(simps(UCOR2,x1),y1),z2))\n",
    "print('Up-Charge at Middle Co is', simps(simps(simps(UCOL2,x1),y1),z0))\n",
    "print('')\n",
    "print('================================')\n",
    "\n",
    "\n",
    "#print out the total charge for dn and up\n",
    "print('Total charge close to the three atoms (for dn) for ITER 3')\n",
    "print('Dn-Charge is', simps(simps(simps(V3,x),y),z))\n",
    "print('Up-Charge is', simps(simps(simps(U3,x),y),z))\n",
    "\n",
    "print('')\n",
    "#Print out the partial charge close to the three atoms (for dn)\n",
    "print('The partial charges close to the three atoms (for dn)')\n",
    "print('Dn-Charge at Left N is', simps(simps(simps(VCOL3,x1),y1),z1))\n",
    "print('Dn-Charge at Right N is', simps(simps(simps(VCOR3,x1),y1),z2))\n",
    "print('Dn-Charge at Middle Co is', simps(simps(simps(VCOL3,x1),y1),z0))\n",
    "print('')\n",
    "#Print out the partial charge close to the three atoms (for up)\n",
    "print('The partial charges close to the three atoms (for up)')\n",
    "print('Up-Charge at Left N is', simps(simps(simps(UCOL3,x1),y1),z1))\n",
    "print('Up-Charge at Right N is', simps(simps(simps(UCOR3,x1),y1),z2))\n",
    "print('Up-Charge at Middle Co is', simps(simps(simps(UCOL3,x1),y1),z0))\n",
    "print('')\n",
    "print('================================')"
   ]
  },
  {
   "cell_type": "code",
   "execution_count": null,
   "metadata": {
    "collapsed": false
   },
   "outputs": [],
   "source": [
    "import os\n",
    "os.listdir('/Users/baileyhsu/Downloads')"
   ]
  },
  {
   "cell_type": "code",
   "execution_count": 1,
   "metadata": {
    "collapsed": true
   },
   "outputs": [],
   "source": [
    "S='HELLO'"
   ]
  },
  {
   "cell_type": "code",
   "execution_count": 18,
   "metadata": {
    "collapsed": false
   },
   "outputs": [
    {
     "data": {
      "text/plain": [
       "'00HELLO000'"
      ]
     },
     "execution_count": 18,
     "metadata": {},
     "output_type": "execute_result"
    }
   ],
   "source": [
    "S.center(10,'0')"
   ]
  },
  {
   "cell_type": "code",
   "execution_count": null,
   "metadata": {
    "collapsed": true
   },
   "outputs": [],
   "source": []
  }
 ],
 "metadata": {
  "anaconda-cloud": {},
  "kernelspec": {
   "display_name": "Python [default]",
   "language": "python",
   "name": "python3"
  },
  "language_info": {
   "codemirror_mode": {
    "name": "ipython",
    "version": 3
   },
   "file_extension": ".py",
   "mimetype": "text/x-python",
   "name": "python",
   "nbconvert_exporter": "python",
   "pygments_lexer": "ipython3",
   "version": "3.5.2"
  }
 },
 "nbformat": 4,
 "nbformat_minor": 1
}
